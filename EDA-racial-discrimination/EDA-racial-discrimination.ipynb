{
 "cells": [
  {
   "cell_type": "markdown",
   "metadata": {},
   "source": [
    "# Examining Racial Discrimination in the US Job Market\n",
    "\n",
    "### Background\n",
    "Racial discrimination continues to be pervasive in cultures throughout the world. Researchers examined the level of racial discrimination in the United States labor market by randomly assigning identical résumés to black-sounding or white-sounding names and observing the impact on requests for interviews from employers.\n",
    "\n",
    "### Data\n",
    "In the dataset provided, each row represents a resume. The 'race' column has two values, 'b' and 'w', indicating black-sounding and white-sounding. The column 'call' has two values, 1 and 0, indicating whether the resume received a call from employers or not.\n",
    "\n",
    "Note that the 'b' and 'w' values in race are assigned randomly to the resumes when presented to the employer."
   ]
  },
  {
   "cell_type": "markdown",
   "metadata": {},
   "source": [
    "### Statistical Analysis\n",
    "<p>The following statistical analysis will try to establish whether race has a significant impact on the rate of callbacks for resumes by answering the following questions:<p>\n",
    "\n",
    "   1. What test is appropriate for this problem? Does CLT apply?\n",
    "   2. What are the null and alternate hypotheses?\n",
    "   3. Compute margin of error, confidence interval, and p-value. Try using both the bootstrapping and the frequentist statistical approaches.\n",
    "   4. Write a story describing the statistical significance in the context or the original problem.\n",
    "   5. Does your analysis mean that race/name is the most important factor in callback success? Why or why not? If not, how would you amend your analysis?\n",
    "\n",
    "#### Resources\n",
    "* Experiment information and data source: http://www.povertyactionlab.org/evaluation/discrimination-job-market-united-states"
   ]
  },
  {
   "cell_type": "markdown",
   "metadata": {},
   "source": [
    "# Set up the environment"
   ]
  },
  {
   "cell_type": "code",
   "execution_count": 1,
   "metadata": {},
   "outputs": [],
   "source": [
    "import warnings\n",
    "warnings.filterwarnings('ignore')\n",
    "\n",
    "# pretty print all cell's output and not just the last one\n",
    "from IPython.core.interactiveshell import InteractiveShell\n",
    "InteractiveShell.ast_node_interactivity = 'all'"
   ]
  },
  {
   "cell_type": "code",
   "execution_count": 2,
   "metadata": {
    "collapsed": true
   },
   "outputs": [],
   "source": [
    "# import modules\n",
    "import pandas as pd\n",
    "import numpy as np\n",
    "from scipy import stats\n",
    "import matplotlib.pyplot as plt\n",
    "import seaborn as sns\n",
    "sns.set_style('dark')"
   ]
  },
  {
   "cell_type": "code",
   "execution_count": 3,
   "metadata": {
    "collapsed": true
   },
   "outputs": [
    {
     "data": {
      "text/html": [
       "<div>\n",
       "<style scoped>\n",
       "    .dataframe tbody tr th:only-of-type {\n",
       "        vertical-align: middle;\n",
       "    }\n",
       "\n",
       "    .dataframe tbody tr th {\n",
       "        vertical-align: top;\n",
       "    }\n",
       "\n",
       "    .dataframe thead th {\n",
       "        text-align: right;\n",
       "    }\n",
       "</style>\n",
       "<table border=\"1\" class=\"dataframe\">\n",
       "  <thead>\n",
       "    <tr style=\"text-align: right;\">\n",
       "      <th></th>\n",
       "      <th>id</th>\n",
       "      <th>ad</th>\n",
       "      <th>education</th>\n",
       "      <th>ofjobs</th>\n",
       "      <th>yearsexp</th>\n",
       "      <th>honors</th>\n",
       "      <th>volunteer</th>\n",
       "      <th>military</th>\n",
       "      <th>empholes</th>\n",
       "      <th>occupspecific</th>\n",
       "      <th>...</th>\n",
       "      <th>compreq</th>\n",
       "      <th>orgreq</th>\n",
       "      <th>manuf</th>\n",
       "      <th>transcom</th>\n",
       "      <th>bankreal</th>\n",
       "      <th>trade</th>\n",
       "      <th>busservice</th>\n",
       "      <th>othservice</th>\n",
       "      <th>missind</th>\n",
       "      <th>ownership</th>\n",
       "    </tr>\n",
       "  </thead>\n",
       "  <tbody>\n",
       "    <tr>\n",
       "      <th>0</th>\n",
       "      <td>b</td>\n",
       "      <td>1</td>\n",
       "      <td>4</td>\n",
       "      <td>2</td>\n",
       "      <td>6</td>\n",
       "      <td>0</td>\n",
       "      <td>0</td>\n",
       "      <td>0</td>\n",
       "      <td>1</td>\n",
       "      <td>17</td>\n",
       "      <td>...</td>\n",
       "      <td>1.0</td>\n",
       "      <td>0.0</td>\n",
       "      <td>1.0</td>\n",
       "      <td>0.0</td>\n",
       "      <td>0.0</td>\n",
       "      <td>0.0</td>\n",
       "      <td>0.0</td>\n",
       "      <td>0.0</td>\n",
       "      <td>0.0</td>\n",
       "      <td></td>\n",
       "    </tr>\n",
       "    <tr>\n",
       "      <th>1</th>\n",
       "      <td>b</td>\n",
       "      <td>1</td>\n",
       "      <td>3</td>\n",
       "      <td>3</td>\n",
       "      <td>6</td>\n",
       "      <td>0</td>\n",
       "      <td>1</td>\n",
       "      <td>1</td>\n",
       "      <td>0</td>\n",
       "      <td>316</td>\n",
       "      <td>...</td>\n",
       "      <td>1.0</td>\n",
       "      <td>0.0</td>\n",
       "      <td>1.0</td>\n",
       "      <td>0.0</td>\n",
       "      <td>0.0</td>\n",
       "      <td>0.0</td>\n",
       "      <td>0.0</td>\n",
       "      <td>0.0</td>\n",
       "      <td>0.0</td>\n",
       "      <td></td>\n",
       "    </tr>\n",
       "    <tr>\n",
       "      <th>2</th>\n",
       "      <td>b</td>\n",
       "      <td>1</td>\n",
       "      <td>4</td>\n",
       "      <td>1</td>\n",
       "      <td>6</td>\n",
       "      <td>0</td>\n",
       "      <td>0</td>\n",
       "      <td>0</td>\n",
       "      <td>0</td>\n",
       "      <td>19</td>\n",
       "      <td>...</td>\n",
       "      <td>1.0</td>\n",
       "      <td>0.0</td>\n",
       "      <td>1.0</td>\n",
       "      <td>0.0</td>\n",
       "      <td>0.0</td>\n",
       "      <td>0.0</td>\n",
       "      <td>0.0</td>\n",
       "      <td>0.0</td>\n",
       "      <td>0.0</td>\n",
       "      <td></td>\n",
       "    </tr>\n",
       "    <tr>\n",
       "      <th>3</th>\n",
       "      <td>b</td>\n",
       "      <td>1</td>\n",
       "      <td>3</td>\n",
       "      <td>4</td>\n",
       "      <td>6</td>\n",
       "      <td>0</td>\n",
       "      <td>1</td>\n",
       "      <td>0</td>\n",
       "      <td>1</td>\n",
       "      <td>313</td>\n",
       "      <td>...</td>\n",
       "      <td>1.0</td>\n",
       "      <td>0.0</td>\n",
       "      <td>1.0</td>\n",
       "      <td>0.0</td>\n",
       "      <td>0.0</td>\n",
       "      <td>0.0</td>\n",
       "      <td>0.0</td>\n",
       "      <td>0.0</td>\n",
       "      <td>0.0</td>\n",
       "      <td></td>\n",
       "    </tr>\n",
       "    <tr>\n",
       "      <th>4</th>\n",
       "      <td>b</td>\n",
       "      <td>1</td>\n",
       "      <td>3</td>\n",
       "      <td>3</td>\n",
       "      <td>22</td>\n",
       "      <td>0</td>\n",
       "      <td>0</td>\n",
       "      <td>0</td>\n",
       "      <td>0</td>\n",
       "      <td>313</td>\n",
       "      <td>...</td>\n",
       "      <td>1.0</td>\n",
       "      <td>1.0</td>\n",
       "      <td>0.0</td>\n",
       "      <td>0.0</td>\n",
       "      <td>0.0</td>\n",
       "      <td>0.0</td>\n",
       "      <td>0.0</td>\n",
       "      <td>1.0</td>\n",
       "      <td>0.0</td>\n",
       "      <td>Nonprofit</td>\n",
       "    </tr>\n",
       "  </tbody>\n",
       "</table>\n",
       "<p>5 rows × 65 columns</p>\n",
       "</div>"
      ],
      "text/plain": [
       "  id ad  education  ofjobs  yearsexp  honors  volunteer  military  empholes  \\\n",
       "0  b  1          4       2         6       0          0         0         1   \n",
       "1  b  1          3       3         6       0          1         1         0   \n",
       "2  b  1          4       1         6       0          0         0         0   \n",
       "3  b  1          3       4         6       0          1         0         1   \n",
       "4  b  1          3       3        22       0          0         0         0   \n",
       "\n",
       "   occupspecific    ...      compreq  orgreq  manuf  transcom  bankreal trade  \\\n",
       "0             17    ...          1.0     0.0    1.0       0.0       0.0   0.0   \n",
       "1            316    ...          1.0     0.0    1.0       0.0       0.0   0.0   \n",
       "2             19    ...          1.0     0.0    1.0       0.0       0.0   0.0   \n",
       "3            313    ...          1.0     0.0    1.0       0.0       0.0   0.0   \n",
       "4            313    ...          1.0     1.0    0.0       0.0       0.0   0.0   \n",
       "\n",
       "  busservice othservice  missind  ownership  \n",
       "0        0.0        0.0      0.0             \n",
       "1        0.0        0.0      0.0             \n",
       "2        0.0        0.0      0.0             \n",
       "3        0.0        0.0      0.0             \n",
       "4        0.0        1.0      0.0  Nonprofit  \n",
       "\n",
       "[5 rows x 65 columns]"
      ]
     },
     "execution_count": 3,
     "metadata": {},
     "output_type": "execute_result"
    }
   ],
   "source": [
    "# read the data and look at the structure\n",
    "data = pd.io.stata.read_stata('data/us_job_market_discrimination.dta')\n",
    "data.head()"
   ]
  },
  {
   "cell_type": "markdown",
   "metadata": {},
   "source": [
    "## Callback Frequency by 'race' and gender\n",
    "The EDA shows that the great majority of candidates are female with white-sounding names having a higher callback rate in both groups."
   ]
  },
  {
   "cell_type": "code",
   "execution_count": 4,
   "metadata": {},
   "outputs": [
    {
     "data": {
      "text/plain": [
       "race  sex  call\n",
       "b     f    0.0     1761\n",
       "           1.0      125\n",
       "      m    0.0      517\n",
       "           1.0       32\n",
       "w     f    0.0     1676\n",
       "           1.0      184\n",
       "      m    0.0      524\n",
       "           1.0       51\n",
       "dtype: int64"
      ]
     },
     "execution_count": 4,
     "metadata": {},
     "output_type": "execute_result"
    }
   ],
   "source": [
    "# number of callbacks for black-sounding names\n",
    "w = data[data.race=='w']\n",
    "b = data[data.race=='b']\n",
    "\n",
    "# counts by callback, sex and race\n",
    "data.groupby(['race','sex','call' ]).size()"
   ]
  },
  {
   "cell_type": "code",
   "execution_count": 5,
   "metadata": {},
   "outputs": [
    {
     "data": {
      "image/png": "[encoded data removed]",
      "text/plain": [
       "<Figure size 1296x864 with 3 Axes>"
      ]
     },
     "metadata": {},
     "output_type": "display_data"
    }
   ],
   "source": [
    "# plot job applications and callback results by race and gender\n",
    "_=sns.set_context(\"notebook\", font_scale=1.5, rc={\"lines.linewidth\": 2.5})\n",
    "_=plt.style.use(['dark_background'])\n",
    "_=plt.rcParams['figure.figsize'] = [18,12]\n",
    "\n",
    "# plot permutation results\n",
    "_=plt.subplot(2,2,1)\n",
    "#_=plt.rcParams['figure.figsize'] = [10,6]\n",
    "_=sns.countplot(x=\"call\", hue=\"race\", data=data, saturation=0.95, )\n",
    "_=plt.title(\"Employer Call Frequency by 'Race'\\n\")\n",
    "_=plt.xlabel('')\n",
    "\n",
    "# set parameters for plots by race\n",
    "#_=plt.suptitle(\"Callback Frequency by 'Race' and Gender\\n\")\n",
    "_=plt.subplot(2,2,3)\n",
    "_=plt.title(\"'white-sounding' names\", pad=10)\n",
    "_=sns.countplot(x=\"call\", hue=\"sex\", data=w, saturation=0.95, )\n",
    "\n",
    "# plot for black-sounding names\n",
    "_=plt.subplot(2,2,4)\n",
    "_=plt.title(\"\\n\\n'black-sounding' names\", pad = 10.5)\n",
    "_=sns.countplot(x=\"call\", hue=\"sex\", data=b, saturation=0.95, )"
   ]
  },
  {
   "cell_type": "code",
   "execution_count": 6,
   "metadata": {},
   "outputs": [
    {
     "name": "stdout",
     "output_type": "stream",
     "text": [
      "callbacks for black-sounding names: 157.0\n",
      "callbacks for white-sounding names: 235.0\n"
     ]
    }
   ],
   "source": [
    "# callback frequency by race\n",
    "print('callbacks for black-sounding names:',sum(b.call))\n",
    "print('callbacks for white-sounding names:',sum(w.call))"
   ]
  },
  {
   "cell_type": "markdown",
   "metadata": {},
   "source": [
    "<div class=\"span5 alert alert-success\">\n",
    "<p>1. What test is appropriate for this problem? Does CLT apply?</p>\n",
    "<p>Since the objective of this analysis is to determine whether the probability distribution of ‘call’, a Bernoulli random variable, is different by population race, ‘b’ and ‘w’, we can conduct a <b>two-sample t-test </b>comparing the black-sounding names data sample with the white-sounding names set. Since the race values were assigned randomly, they are independent, the sample size is large, it’s less than 10% of the population, and data contains a binomial random variable, the CLT applies.</p>\n",
    "</div>"
   ]
  },
  {
   "cell_type": "markdown",
   "metadata": {},
   "source": [
    "<div class=\"span5 alert alert-success\">\n",
    "<p>2. What are the null and alternate hypotheses?</p>\n",
    "<p>The null hypothesis is that holding everything else constant, the probability of receiving a call back from an employer is the same for black and white sounding names. The alternative hypothesis is that there is a statistically significant difference between the two groups.</p>\n",
    "<p>$H_0$: 'b' = 'w' </p>\n",
    "<p>$H_A$: 'b' $\\neq$ 'w'</p>\n",
    "<p>$\\alpha$ = 0.05</p>\n",
    "</div>"
   ]
  },
  {
   "cell_type": "markdown",
   "metadata": {},
   "source": [
    "<div class=\"span5 alert alert-success\">\n",
    "3. Compute margin of error, confidence interval, and p-value. Try using both the bootstrapping and the frequentist statistical approaches.\n",
    "</div>"
   ]
  },
  {
   "cell_type": "markdown",
   "metadata": {},
   "source": [
    "## Frequentist Approach to Probability"
   ]
  },
  {
   "cell_type": "code",
   "execution_count": 7,
   "metadata": {
    "collapsed": true
   },
   "outputs": [
    {
     "name": "stdout",
     "output_type": "stream",
     "text": [
      "Proportion call backs 'w': 0.0965 \n",
      "Proportion call backs 'b': 0.0645\n"
     ]
    }
   ],
   "source": [
    "# convert data to array for easier analysis\n",
    "w_calls = w.call.values\n",
    "b_calls = b.call.values\n",
    "\n",
    "# proportion of calls from employers by 'race'\n",
    "w_prop = np.sum(w_calls)/len(w_calls)\n",
    "b_prop = np.sum(b_calls)/len(b_calls)\n",
    "\n",
    "print(\"Proportion call backs 'w':\",np.round((w_prop),4),\n",
    "      \"\\nProportion call backs 'b':\",np.round((b_prop),4),)"
   ]
  },
  {
   "cell_type": "markdown",
   "metadata": {},
   "source": [
    "<p>Based on the observed data, 'white-sounding’ names seem to receive a slightly higher percentage of calls from employers than resumes with ‘black-sounding’ names. While 9.65% of ‘white’ applicants received an interview request, only 6.45% of ‘black’ applicants were invited to interview. However, to see the likelihood of this happening again, we randomly sample the data ignoring the ‘labels’ and see if there is a difference between the two groups.</p>"
   ]
  },
  {
   "cell_type": "markdown",
   "metadata": {},
   "source": [
    "## Bootstrap Approach to Probability"
   ]
  },
  {
   "cell_type": "code",
   "execution_count": 8,
   "metadata": {},
   "outputs": [],
   "source": [
    "# calculate the observed difference\n",
    "def observed_diff(array1, array2):\n",
    "    frac1 = np.sum(array1)/len(array1)\n",
    "    frac2 = np.sum(array2)/len(array2)\n",
    "    return frac1 - frac2\n",
    "\n",
    "obs_diff = observed_diff(w_calls, b_calls)\n",
    "\n",
    "# define permutation function\n",
    "def permutation_samples(array1, array2):\n",
    "    \"\"\"Return a permutation sample from two arrays\"\"\"\n",
    "    # concatenate the two arrays to 'remove' the labels and create the permuation sample\n",
    "    both_df = np.concatenate((array1, array2))\n",
    "\n",
    "    # mix the data\n",
    "    both_perms = np.random.permutation(both_df)\n",
    "\n",
    "    # randomly separate the data\n",
    "    perm_1 = both_perms[:len(array1)]\n",
    "    perm_2 = both_perms[len(array1):]\n",
    "    \n",
    "    return perm_1, perm_2\n",
    "\n",
    "# define a function to compute n size permutation replicates\n",
    "def permutation_replicates(array1, array2, function, size):\n",
    "    \"\"\"Return array of sample statistics computer from a permutation sample\"\"\"\n",
    "    \n",
    "    # create an empty array to store the replicates\n",
    "    replicates_array = np.empty(10000)\n",
    "    \n",
    "    # create the permutation sample of size n\n",
    "    for i in range(size):\n",
    "        ps1, ps2 = permutation_samples(array1, array2)\n",
    "    \n",
    "        # compute the test statistic\n",
    "        replicates_array[i] = function(ps1, ps2)\n",
    "    \n",
    "    return replicates_array\n",
    "\n",
    "# critical value for \n",
    "critical_value = 1.96\n",
    "\n",
    "# standard error individual arrays\n",
    "se_w = stats.sem(w_calls)\n",
    "se_b = stats.sem(b_calls)\n",
    "\n",
    "# standard error of the differences between the two independent arrays\n",
    "se = np.sqrt((np.var(w_calls)/len(w_calls)) + np.var(b_calls)/len(b_calls))\n",
    "\n",
    "# margin of error and confidence intervals\n",
    "me = critical_value * se\n",
    "ci = obs_diff + np.array([-1,1])*me\n",
    "\n",
    "# t-statistc \n",
    "t_test =stats.ttest_ind(w_calls, b_calls)\n",
    "\n",
    "# set the random seed\n",
    "np.random.seed(88)\n",
    "\n",
    "# combine arrays, ignore the labels and create a new set of arrays to compare if the results are the same\n",
    "perm_sample1, perm_sample2 = permutation_samples(b_calls, w_calls)\n",
    "\n",
    "# get the permutation replicates\n",
    "perm_reps = permutation_replicates(w_calls, b_calls, observed_diff, 10000)\n",
    "\n",
    "# calculate the probability\n",
    "p_value = np.sum(perm_reps >=obs_diff)/len(perm_reps)"
   ]
  },
  {
   "cell_type": "code",
   "execution_count": 9,
   "metadata": {},
   "outputs": [
    {
     "data": {
      "image/png": "[encoded data removed]",
      "text/plain": [
       "<Figure size 864x432 with 1 Axes>"
      ]
     },
     "metadata": {},
     "output_type": "display_data"
    }
   ],
   "source": [
    "_=plt.style.use(['dark_background'])\n",
    "_=plt.rcParams['figure.figsize'] = [12,6]\n",
    "_=plt.title('Proportion Difference Under Null Hypothesis\\n')\n",
    "_=plt.axvline(obs_diff, color = 'red', label = 'Observed Difference')\n",
    "_=plt.legend(['Observed Difference'], fontsize = 15)\n",
    "_=plt.hist(perm_reps)\n",
    "_=plt.xlabel('proportion difference in calls between groups')\n",
    "_=plt.ylabel('Frequency')"
   ]
  },
  {
   "cell_type": "code",
   "execution_count": 10,
   "metadata": {},
   "outputs": [
    {
     "name": "stdout",
     "output_type": "stream",
     "text": [
      "\n",
      "Observed difference: 0.032 \n",
      "Standard error of the differences: 0.0078 \n",
      "Margin of error: 0.0153 \n",
      "Confidence interval: [0.0168 0.0473] \n",
      "t-statistics: 4.1147 \n",
      "P-value: 0.0\n"
     ]
    }
   ],
   "source": [
    "print(\"\\nObserved difference:\",np.round((obs_diff),4),\n",
    "      '\\nStandard error of the differences:',np.round((se),4),\n",
    "      '\\nMargin of error:', np.round((me),4),\n",
    "      '\\nConfidence interval:', np.round((ci),4),\n",
    "      '\\nt-statistics:', np.round((t_test[0]),4),\n",
    "      '\\nP-value:',p_value\n",
    "     )"
   ]
  },
  {
   "cell_type": "markdown",
   "metadata": {},
   "source": [
    "</p>After simulating the job application results 10,000 times, the difference in the proportion of calls received by one group vs. the other was between +-2.5%. Since the observed difference was 3.2%, we see the none of the simulations reached a difference that was at least this high. The result for the t-statistic, which was 4.115 (higher that the t critical value of 1.96) and the p-value was 0.0, suggests that the difference in call rates is statistically significant at the 0.05 significance level. Hence, we reject the null hypothesis, that everything else being equal, the implication of race has no impact on interview requests.</p>"
   ]
  },
  {
   "cell_type": "markdown",
   "metadata": {},
   "source": [
    "### Race and Name as a Factor\n",
    "<p>Does the analysis mean that race/name is the most important factor in callback success?</p>\n",
    "<p>While the previous analysis showed that resumes with ‘white-sounding’ names did in fact receive a higher percentage of calls to interview, it does not conclude that race is the single most important factor in callback success. Other external factors, such as business’s location, how skills are weighted by job title or even human bias can all play a role in the results, which may not all be measured by the model</p>"
   ]
  }
 ],
 "metadata": {
  "kernelspec": {
   "display_name": "Python 3",
   "language": "python",
   "name": "python3"
  },
  "language_info": {
   "codemirror_mode": {
    "name": "ipython",
    "version": 3
   },
   "file_extension": ".py",
   "mimetype": "text/x-python",
   "name": "python",
   "nbconvert_exporter": "python",
   "pygments_lexer": "ipython3",
   "version": "3.6.7"
  }
 },
 "nbformat": 4,
 "nbformat_minor": 2
}
