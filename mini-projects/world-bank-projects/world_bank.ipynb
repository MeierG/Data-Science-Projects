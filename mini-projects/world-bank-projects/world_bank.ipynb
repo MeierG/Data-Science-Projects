{
 "cells": [
  {
   "cell_type": "markdown",
   "metadata": {},
   "source": [
    "<h1> Analyzing World Bank Projects Data</h1>\n",
    "<p>As part of its commitment to <a href = 'http://www.worldbank.org/en/about'>'end extreme poverty and promote shared prosperity'</a>, The World Bank Group has been providing, since 1947, funding, advise, and technical support to developing countries to create projects that encourage social and economic growth.</p>\n",
    "<p>The objective of this short analysis is to use JSON and Pandas to get an idea of the most common project themes and countries with the largest number of projects.</p>\n",
    "<p>Resources: <a ref = 'http://www.worldbank.org/en/about'>http://www.worldbank.org/en/about</a></p>"
   ]
  },
  {
   "cell_type": "markdown",
   "metadata": {},
   "source": [
    "<h2>Setting the Enviroment</h2>\n",
    "<p>The first step is to import the libraries needed for the analysis</p>"
   ]
  },
  {
   "cell_type": "code",
   "execution_count": 1,
   "metadata": {},
   "outputs": [],
   "source": [
    "import warnings\n",
    "warnings.filterwarnings('ignore')"
   ]
  },
  {
   "cell_type": "code",
   "execution_count": 2,
   "metadata": {},
   "outputs": [],
   "source": [
    "# pretty print all output of a cell\n",
    "from IPython.core.interactiveshell import InteractiveShell\n",
    "InteractiveShell.ast_node_interactivity = 'all'"
   ]
  },
  {
   "cell_type": "code",
   "execution_count": 3,
   "metadata": {},
   "outputs": [],
   "source": [
    "import pandas as pd\n",
    "from pandas.io.json import json_normalize\n",
    "import json\n",
    "import matplotlib.pyplot as plt\n",
    "from matplotlib import style\n",
    "style.use('tableau-colorblind10')\n",
    "from IPython.core.display import HTML, display\n",
    "import folium"
   ]
  },
  {
   "cell_type": "markdown",
   "metadata": {},
   "source": [
    "<h2>Getting the Data</h2>\n",
    "<p>As mentioned above, the following analysis uses a small JSON file sample, saved locally, containing projects funded by The World Bank Group.</p>"
   ]
  },
  {
   "cell_type": "code",
   "execution_count": 4,
   "metadata": {},
   "outputs": [
    {
     "name": "stdout",
     "output_type": "stream",
     "text": [
      "CPU times: user 6 µs, sys: 1e+03 ns, total: 7 µs\n",
      "Wall time: 12.2 µs\n"
     ]
    }
   ],
   "source": [
    "# use context to open the file and load the data\n",
    "%time\n",
    "with open('world_bank_projects.json') as file:\n",
    "    df = json.load(file)"
   ]
  },
  {
   "cell_type": "code",
   "execution_count": 5,
   "metadata": {},
   "outputs": [
    {
     "data": {
      "text/plain": [
       "list"
      ]
     },
     "execution_count": 5,
     "metadata": {},
     "output_type": "execute_result"
    },
    {
     "data": {
      "text/plain": [
       "{'sector': [{'Name': 'Primary education'},\n",
       "  {'Name': 'Secondary education'},\n",
       "  {'Name': 'Public administration- Other social services'},\n",
       "  {'Name': 'Tertiary education'}],\n",
       " 'supplementprojectflg': 'N',\n",
       " 'projectfinancialtype': 'IDA',\n",
       " 'prodline': 'PE',\n",
       " 'mjtheme': ['Human development'],\n",
       " 'idacommamt': 130000000,\n",
       " 'impagency': 'MINISTRY OF EDUCATION',\n",
       " 'project_name': 'Ethiopia General Education Quality Improvement Project II',\n",
       " 'mjthemecode': '8,11',\n",
       " 'closingdate': '2018-07-07T00:00:00Z',\n",
       " 'totalcommamt': 130000000,\n",
       " 'id': 'P129828',\n",
       " 'mjsector_namecode': [{'code': 'EX', 'name': 'Education'},\n",
       "  {'code': 'EX', 'name': 'Education'},\n",
       "  {'code': 'BX', 'name': 'Public Administration, Law, and Justice'},\n",
       "  {'code': 'EX', 'name': 'Education'}],\n",
       " 'docty': 'Project Information Document,Indigenous Peoples Plan,Project Information Document',\n",
       " 'sector1': {'Percent': 46, 'Name': 'Primary education'},\n",
       " 'lendinginstr': 'Investment Project Financing',\n",
       " 'countrycode': 'ET',\n",
       " 'sector2': {'Percent': 26, 'Name': 'Secondary education'},\n",
       " 'totalamt': 130000000,\n",
       " 'mjtheme_namecode': [{'code': '8', 'name': 'Human development'},\n",
       "  {'code': '11', 'name': ''}],\n",
       " 'boardapprovaldate': '2013-11-12T00:00:00Z',\n",
       " 'countryshortname': 'Ethiopia',\n",
       " 'sector4': {'Percent': 12, 'Name': 'Tertiary education'},\n",
       " 'prodlinetext': 'IBRD/IDA',\n",
       " 'productlinetype': 'L',\n",
       " 'regionname': 'Africa',\n",
       " 'status': 'Active',\n",
       " 'country_namecode': 'Federal Democratic Republic of Ethiopia!$!ET',\n",
       " 'envassesmentcategorycode': 'C',\n",
       " 'project_abstract': {'cdata': 'The development objective of the Second Phase of General Education Quality Improvement Project for Ethiopia is to improve learning conditions in primary and secondary schools and strengthen institutions at different levels of educational administration. The project has six components. The first component is curriculum, textbooks, assessment, examinations, and inspection. This component will support improvement of learning conditions in grades KG-12 by providing increased access to teaching and learning materials and through improvements to the curriculum by assessing the strengths and weaknesses of the current curriculum. This component has following four sub-components: (i) curriculum reform and implementation; (ii) teaching and learning materials; (iii) assessment and examinations; and (iv) inspection. The second component is teacher development program (TDP). This component will support improvements in learning conditions in both primary and secondary schools by advancing the quality of teaching in general education through: (a) enhancing the training of pre-service teachers in teacher education institutions; and (b) improving the quality of in-service teacher training. This component has following three sub-components: (i) pre-service teacher training; (ii) in-service teacher training; and (iii) licensing and relicensing of teachers and school leaders. The third component is school improvement plan. This component will support the strengthening of school planning in order to improve learning outcomes, and to partly fund the school improvement plans through school grants. It has following two sub-components: (i) school improvement plan; and (ii) school grants. The fourth component is management and capacity building, including education management information systems (EMIS). This component will support management and capacity building aspect of the project. This component has following three sub-components: (i) capacity building for education planning and management; (ii) capacity building for school planning and management; and (iii) EMIS. The fifth component is improving the quality of learning and teaching in secondary schools and universities through the use of information and communications technology (ICT). It has following five sub-components: (i) national policy and institution for ICT in general education; (ii) national ICT infrastructure improvement plan for general education; (iii) develop an integrated monitoring, evaluation, and learning system specifically for the ICT component; (iv) teacher professional development in the use of ICT; and (v) provision of limited number of e-Braille display readers with the possibility to scale up to all secondary education schools based on the successful implementation and usage of the readers. The sixth component is program coordination, monitoring and evaluation, and communication. It will support institutional strengthening by developing capacities in all aspects of program coordination, monitoring and evaluation; a new sub-component on communications will support information sharing for better management and accountability. It has following three sub-components: (i) program coordination; (ii) monitoring and evaluation (M and E); and (iii) communication.'},\n",
       " 'approvalfy': 1999,\n",
       " 'projectdocs': [{'DocDate': '28-AUG-2013',\n",
       "   'EntityID': '090224b081e545fb_1_0',\n",
       "   'DocURL': 'http://www-wds.worldbank.org/servlet/WDSServlet?pcont=details&eid=090224b081e545fb_1_0',\n",
       "   'DocType': 'PID',\n",
       "   'DocTypeDesc': 'Project Information Document (PID),  Vol.'},\n",
       "  {'DocDate': '01-JUL-2013',\n",
       "   'EntityID': '000442464_20130920111729',\n",
       "   'DocURL': 'http://www-wds.worldbank.org/servlet/WDSServlet?pcont=details&eid=000442464_20130920111729',\n",
       "   'DocType': 'IP',\n",
       "   'DocTypeDesc': 'Indigenous Peoples Plan (IP),  Vol.1 of 1'},\n",
       "  {'DocDate': '22-NOV-2012',\n",
       "   'EntityID': '090224b0817b19e2_1_0',\n",
       "   'DocURL': 'http://www-wds.worldbank.org/servlet/WDSServlet?pcont=details&eid=090224b0817b19e2_1_0',\n",
       "   'DocType': 'PID',\n",
       "   'DocTypeDesc': 'Project Information Document (PID),  Vol.'}],\n",
       " 'lendprojectcost': 550000000,\n",
       " 'lendinginstrtype': 'IN',\n",
       " 'theme1': {'Percent': 100, 'Name': 'Education for all'},\n",
       " 'grantamt': 0,\n",
       " 'themecode': '65',\n",
       " 'borrower': 'FEDERAL DEMOCRATIC REPUBLIC OF ETHIOPIA',\n",
       " 'sectorcode': 'ET,BS,ES,EP',\n",
       " 'sector3': {'Percent': 16,\n",
       "  'Name': 'Public administration- Other social services'},\n",
       " 'majorsector_percent': [{'Percent': 46, 'Name': 'Education'},\n",
       "  {'Percent': 26, 'Name': 'Education'},\n",
       "  {'Percent': 16, 'Name': 'Public Administration, Law, and Justice'},\n",
       "  {'Percent': 12, 'Name': 'Education'}],\n",
       " 'board_approval_month': 'November',\n",
       " 'theme_namecode': [{'code': '65', 'name': 'Education for all'}],\n",
       " 'countryname': 'Federal Democratic Republic of Ethiopia',\n",
       " 'url': 'http://www.worldbank.org/projects/P129828/ethiopia-general-education-quality-improvement-project-ii?lang=en',\n",
       " 'source': 'IBRD',\n",
       " 'projectstatusdisplay': 'Active',\n",
       " 'ibrdcommamt': 0,\n",
       " 'sector_namecode': [{'code': 'EP', 'name': 'Primary education'},\n",
       "  {'code': 'ES', 'name': 'Secondary education'},\n",
       "  {'code': 'BS', 'name': 'Public administration- Other social services'},\n",
       "  {'code': 'ET', 'name': 'Tertiary education'}],\n",
       " '_id': {'$oid': '52b213b38594d8a2be17c780'}}"
      ]
     },
     "execution_count": 5,
     "metadata": {},
     "output_type": "execute_result"
    }
   ],
   "source": [
    "# confirm data was loaded and get a sense of the data structure.\n",
    "type(df)\n",
    "df[0]"
   ]
  },
  {
   "cell_type": "markdown",
   "metadata": {},
   "source": [
    "<h2>Data Preparation</h2>\n",
    "<p>Since the data comes in a json format, we need to <em>normalize </em>it first to work with it in pandas.</p>"
   ]
  },
  {
   "cell_type": "code",
   "execution_count": 6,
   "metadata": {},
   "outputs": [],
   "source": [
    "# use normalization to change the data structure into a flat table\n",
    "df = json_normalize(df)"
   ]
  },
  {
   "cell_type": "code",
   "execution_count": 7,
   "metadata": {},
   "outputs": [
    {
     "name": "stdout",
     "output_type": "stream",
     "text": [
      "(500, 55)\n"
     ]
    }
   ],
   "source": [
    "# confirm normalization\n",
    "print(df.shape)"
   ]
  },
  {
   "cell_type": "code",
   "execution_count": 8,
   "metadata": {},
   "outputs": [],
   "source": [
    "# remove leading and trailing spaces from the column names \n",
    "df.columns = df.columns.str.strip('')"
   ]
  },
  {
   "cell_type": "code",
   "execution_count": 9,
   "metadata": {},
   "outputs": [],
   "source": [
    "# rename and set the index\n",
    "df.rename(columns = {'_id.$oid':'id_number'}, inplace = True)\n",
    "df.set_index('id_number', inplace = True)"
   ]
  },
  {
   "cell_type": "code",
   "execution_count": 10,
   "metadata": {},
   "outputs": [
    {
     "name": "stdout",
     "output_type": "stream",
     "text": [
      "(500, 5)\n"
     ]
    },
    {
     "data": {
      "text/html": [
       "<div>\n",
       "<style scoped>\n",
       "    .dataframe tbody tr th:only-of-type {\n",
       "        vertical-align: middle;\n",
       "    }\n",
       "\n",
       "    .dataframe tbody tr th {\n",
       "        vertical-align: top;\n",
       "    }\n",
       "\n",
       "    .dataframe thead th {\n",
       "        text-align: right;\n",
       "    }\n",
       "</style>\n",
       "<table border=\"1\" class=\"dataframe\">\n",
       "  <thead>\n",
       "    <tr style=\"text-align: right;\">\n",
       "      <th></th>\n",
       "      <th>countryname</th>\n",
       "      <th>countryshortname</th>\n",
       "      <th>mjtheme_namecode</th>\n",
       "      <th>mjtheme</th>\n",
       "      <th>regionname</th>\n",
       "    </tr>\n",
       "    <tr>\n",
       "      <th>id_number</th>\n",
       "      <th></th>\n",
       "      <th></th>\n",
       "      <th></th>\n",
       "      <th></th>\n",
       "      <th></th>\n",
       "    </tr>\n",
       "  </thead>\n",
       "  <tbody>\n",
       "    <tr>\n",
       "      <th>52b213b38594d8a2be17c780</th>\n",
       "      <td>Federal Democratic Republic of Ethiopia</td>\n",
       "      <td>Ethiopia</td>\n",
       "      <td>[{'code': '8', 'name': 'Human development'}, {...</td>\n",
       "      <td>[Human development]</td>\n",
       "      <td>Africa</td>\n",
       "    </tr>\n",
       "    <tr>\n",
       "      <th>52b213b38594d8a2be17c781</th>\n",
       "      <td>Republic of Tunisia</td>\n",
       "      <td>Tunisia</td>\n",
       "      <td>[{'code': '1', 'name': 'Economic management'},...</td>\n",
       "      <td>[Economic management, Social protection and ri...</td>\n",
       "      <td>Middle East and North Africa</td>\n",
       "    </tr>\n",
       "  </tbody>\n",
       "</table>\n",
       "</div>"
      ],
      "text/plain": [
       "                                                      countryname  \\\n",
       "id_number                                                           \n",
       "52b213b38594d8a2be17c780  Federal Democratic Republic of Ethiopia   \n",
       "52b213b38594d8a2be17c781                      Republic of Tunisia   \n",
       "\n",
       "                         countryshortname  \\\n",
       "id_number                                   \n",
       "52b213b38594d8a2be17c780         Ethiopia   \n",
       "52b213b38594d8a2be17c781          Tunisia   \n",
       "\n",
       "                                                           mjtheme_namecode  \\\n",
       "id_number                                                                     \n",
       "52b213b38594d8a2be17c780  [{'code': '8', 'name': 'Human development'}, {...   \n",
       "52b213b38594d8a2be17c781  [{'code': '1', 'name': 'Economic management'},...   \n",
       "\n",
       "                                                                    mjtheme  \\\n",
       "id_number                                                                     \n",
       "52b213b38594d8a2be17c780                                [Human development]   \n",
       "52b213b38594d8a2be17c781  [Economic management, Social protection and ri...   \n",
       "\n",
       "                                            regionname  \n",
       "id_number                                               \n",
       "52b213b38594d8a2be17c780                        Africa  \n",
       "52b213b38594d8a2be17c781  Middle East and North Africa  "
      ]
     },
     "execution_count": 10,
     "metadata": {},
     "output_type": "execute_result"
    }
   ],
   "source": [
    "# subset the dataset to use only columns relevant to this analysis\n",
    "wb = df.copy()[['countryname','countryshortname','mjtheme_namecode','mjtheme','regionname']]\n",
    "\n",
    "# confirm the subset has the same number of rows\n",
    "print(wb.shape)\n",
    "wb.head(2)"
   ]
  },
  {
   "cell_type": "markdown",
   "metadata": {},
   "source": [
    "<h2>Analysis</h2>\n",
    "<p>There are three main questions I am interested in answering:</p>\n",
    "<ol>\n",
    "    <li><b>Which are the 10 countries with the most projects?</b></li>\n",
    "    <li><b>Which are the top 3 regions by number of projects?</b></li>\n",
    "    <li><b>Which are the top 10 major project themes?</b></li>"
   ]
  },
  {
   "cell_type": "markdown",
   "metadata": {},
   "source": [
    "<h3>1. Countries with Most Projects</h3>\n",
    "<p>Based on the data, Indonesia and China, top the list of countries with the most number of projects, with 19 projects each. Through these projects, countries seek financial support and technical assistance from the World Bank to develop initiatives that encourage social, economic, or educational growth and awareness.<p>\n",
    "<p>The top 10 countries were found as follows:</p>"
   ]
  },
  {
   "cell_type": "code",
   "execution_count": 11,
   "metadata": {},
   "outputs": [
    {
     "data": {
      "text/plain": [
       "Indonesia             19\n",
       "China                 19\n",
       "Vietnam               17\n",
       "India                 16\n",
       "Yemen, Republic of    13\n",
       "Morocco               12\n",
       "Nepal                 12\n",
       "Bangladesh            12\n",
       "Africa                11\n",
       "Mozambique            11\n",
       "Brazil                 9\n",
       "Name: countryshortname, dtype: int64"
      ]
     },
     "execution_count": 11,
     "metadata": {},
     "output_type": "execute_result"
    }
   ],
   "source": [
    "#10 countries with most projects\n",
    "wb['countryshortname'].value_counts().head(11)"
   ]
  },
  {
   "cell_type": "markdown",
   "metadata": {},
   "source": [
    "<h4>Where are the Top 5 Countries by Number of Projects Located</h4>\n",
    "<p>Using the folium package, we can see where the top 5 countries are located and the number of projects for each location.</p>"
   ]
  },
  {
   "cell_type": "code",
   "execution_count": 12,
   "metadata": {},
   "outputs": [
    {
     "data": {
      "text/plain": [
       "<folium.map.Marker at 0x1110389e8>"
      ]
     },
     "execution_count": 12,
     "metadata": {},
     "output_type": "execute_result"
    },
    {
     "data": {
      "text/plain": [
       "<folium.map.Marker at 0x111020ba8>"
      ]
     },
     "execution_count": 12,
     "metadata": {},
     "output_type": "execute_result"
    },
    {
     "data": {
      "text/plain": [
       "<folium.map.Marker at 0x11103dcf8>"
      ]
     },
     "execution_count": 12,
     "metadata": {},
     "output_type": "execute_result"
    },
    {
     "data": {
      "text/plain": [
       "<folium.map.Marker at 0x11103dbe0>"
      ]
     },
     "execution_count": 12,
     "metadata": {},
     "output_type": "execute_result"
    },
    {
     "data": {
      "text/plain": [
       "<folium.map.Marker at 0x105a058d0>"
      ]
     },
     "execution_count": 12,
     "metadata": {},
     "output_type": "execute_result"
    },
    {
     "data": {
      "text/html": [
       "<div style=\"width:100%;\"><div style=\"position:relative;width:100%;height:0;padding-bottom:60%;\"><iframe src=\"data:text/html;charset=utf-8;base64,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\" style=\"position:absolute;width:100%;height:100%;left:0;top:0;border:none !important;\" allowfullscreen webkitallowfullscreen mozallowfullscreen></iframe></div></div>"
      ],
      "text/plain": [
       "<folium.folium.Map at 0x11103da20>"
      ]
     },
     "metadata": {},
     "output_type": "display_data"
    }
   ],
   "source": [
    "# Plot the top 5 countries with the most number of projects\n",
    "\n",
    "# create the map\n",
    "projects_map = folium.Map(zoom_start=2, location=[-1, 100])\n",
    "\n",
    "# Top five countries by number of projects\n",
    "top_5 = [\n",
    "    {'loc': [39.916, 116.383], 'label': 'China: 19'},\n",
    "    {'loc': [-6.175, 106.828], 'label': 'Indonesia: 19'},\n",
    "    {'loc': [21.033, 105.85], 'label': 'Vietnam: 17'},\n",
    "    {'loc': [28.613889, 77.208333], 'label':'India: 16'},\n",
    "    {'loc':[15.348333, 44.206389], 'label':'Republic of Yemen: 13'}] \n",
    "\n",
    "# Adding the name of top 5 countries.\n",
    "for project in top_5:\n",
    "    _=folium.Marker(location=project['loc'], popup=project['label'])\n",
    "    _.add_to(projects_map)\n",
    "projects_map.save('projects_map.html')\n",
    "display(projects_map)"
   ]
  },
  {
   "cell_type": "markdown",
   "metadata": {},
   "source": [
    "<h3>2. Top 3 Regions by Number of Projects</h3>"
   ]
  },
  {
   "cell_type": "code",
   "execution_count": 13,
   "metadata": {},
   "outputs": [
    {
     "data": {
      "text/plain": [
       "Africa                     152\n",
       "East Asia and Pacific      100\n",
       "Europe and Central Asia     74\n",
       "Name: regionname, dtype: int64"
      ]
     },
     "execution_count": 13,
     "metadata": {},
     "output_type": "execute_result"
    },
    {
     "data": {
      "image/png": "[encoded data removed]",
      "text/plain": [
       "<Figure size 432x288 with 1 Axes>"
      ]
     },
     "metadata": {},
     "output_type": "display_data"
    }
   ],
   "source": [
    "# regions with the most projects\n",
    "wb['regionname'].value_counts().head(3)\n",
    "\n",
    "# set style to display plot when using Jupyterlab's Dark Terminal Theme\n",
    "plt.rcParams[\"figure.figsize\"] = [14,8]\n",
    "plt.style.use(['dark_background'])\n",
    "_=wb['regionname'].value_counts().head(3).plot(kind = 'bar', rot = 45)\n",
    "_=plt.title('\\nTop 3 Regions by Number of Projects', fontsize = 20)"
   ]
  },
  {
   "cell_type": "markdown",
   "metadata": {},
   "source": [
    "<h3>3. Most Common Project Themes</h3>\n",
    "<p>Each project can have multiple themes that relate its goal and objectives. A project's theme allows to monitor the progress of a project and to recognize the most common areas where developing countries are looking to incentivate growth .</p>"
   ]
  },
  {
   "cell_type": "markdown",
   "metadata": {},
   "source": [
    "<p>For this part of the analysis, we look at the <em>'mjtheme_namecode' </em>variable, which contains the codes and names of themes related to the project. As part of the data preparation:\n",
    "    <ul>\n",
    "        <li>a separate dataframe was created to <em>normalize</em> the data, since it contained a list of nested dictionaries with missing values</li>\n",
    "        <li>missing theme names were filled in, based on the existing theme codes</li>\n",
    "    </ul>\n",
    " </p> "
   ]
  },
  {
   "cell_type": "code",
   "execution_count": 14,
   "metadata": {},
   "outputs": [
    {
     "data": {
      "text/plain": [
       "id_number\n",
       "52b213b38594d8a2be17c780    [{'code': '8', 'name': 'Human development'}, {...\n",
       "Name: mjtheme_namecode, dtype: object"
      ]
     },
     "execution_count": 14,
     "metadata": {},
     "output_type": "execute_result"
    }
   ],
   "source": [
    "# looking at the structure of the column of interest\n",
    "wb['mjtheme_namecode'].head(1)"
   ]
  },
  {
   "cell_type": "code",
   "execution_count": 15,
   "metadata": {},
   "outputs": [
    {
     "name": "stdout",
     "output_type": "stream",
     "text": [
      "CPU times: user 9 µs, sys: 2 µs, total: 11 µs\n",
      "Wall time: 20 µs\n"
     ]
    }
   ],
   "source": [
    "# normalize each dictionary inside the column and combine the resulting dataframes\n",
    "%time\n",
    "projects = pd.concat([(json_normalize(i)) for i in wb['mjtheme_namecode']])"
   ]
  },
  {
   "cell_type": "code",
   "execution_count": 16,
   "metadata": {},
   "outputs": [],
   "source": [
    "# change data type to save memory and speed up processing\n",
    "projects = projects.astype('category')"
   ]
  },
  {
   "cell_type": "code",
   "execution_count": 17,
   "metadata": {},
   "outputs": [
    {
     "data": {
      "text/plain": [
       "11    250\n",
       "10    216\n",
       "8     210\n",
       "2     199\n",
       "6     168\n",
       "4     146\n",
       "7     130\n",
       "5      77\n",
       "9      50\n",
       "1      38\n",
       "Name: code, dtype: int64"
      ]
     },
     "execution_count": 17,
     "metadata": {},
     "output_type": "execute_result"
    }
   ],
   "source": [
    "# display top 10 theme code names\n",
    "projects['code'].value_counts().head(10)"
   ]
  },
  {
   "cell_type": "markdown",
   "metadata": {},
   "source": [
    "<p>Although we know what the top ten theme <em>codes</em> are, it would be more useful to know what those codes represent. In order to find the codes, we need to fill in the missing values first, so we can have an accurate count of names:</p>"
   ]
  },
  {
   "cell_type": "code",
   "execution_count": 18,
   "metadata": {},
   "outputs": [],
   "source": [
    "# create a reference dictionary to fill in missing values\n",
    "\n",
    "# create a copy of the projects DF with unique value\n",
    "short = projects.copy().drop_duplicates()\n",
    "\n",
    "# sort values to have only complete cases at the top\n",
    "t = short.sort_values(by = 'name', ascending = False)[:11]\n",
    "\n",
    "# create a list for the corresponding theme code and theme name\n",
    "c = list(t['code'])\n",
    "n = list(t['name'])\n",
    "\n",
    "# create a dictionary to map codes with missing names\n",
    "all_codes = dict(zip(c,n))"
   ]
  },
  {
   "cell_type": "markdown",
   "metadata": {},
   "source": [
    "Create a dataframe with the missing names filled in."
   ]
  },
  {
   "cell_type": "code",
   "execution_count": 19,
   "metadata": {},
   "outputs": [
    {
     "name": "stdout",
     "output_type": "stream",
     "text": [
      "CPU times: user 8 µs, sys: 2 µs, total: 10 µs\n",
      "Wall time: 17.9 µs\n"
     ]
    }
   ],
   "source": [
    "# create a dataframe with the missing names filled in\n",
    "%time\n",
    "projects['theme_name'] = projects['code'].map(all_codes)"
   ]
  },
  {
   "cell_type": "code",
   "execution_count": 20,
   "metadata": {},
   "outputs": [
    {
     "data": {
      "text/html": [
       "<div>\n",
       "<style scoped>\n",
       "    .dataframe tbody tr th:only-of-type {\n",
       "        vertical-align: middle;\n",
       "    }\n",
       "\n",
       "    .dataframe tbody tr th {\n",
       "        vertical-align: top;\n",
       "    }\n",
       "\n",
       "    .dataframe thead th {\n",
       "        text-align: right;\n",
       "    }\n",
       "</style>\n",
       "<table border=\"1\" class=\"dataframe\">\n",
       "  <thead>\n",
       "    <tr style=\"text-align: right;\">\n",
       "      <th></th>\n",
       "      <th>code</th>\n",
       "      <th>name</th>\n",
       "      <th>theme_name</th>\n",
       "    </tr>\n",
       "  </thead>\n",
       "  <tbody>\n",
       "    <tr>\n",
       "      <th>0</th>\n",
       "      <td>8</td>\n",
       "      <td>Human development</td>\n",
       "      <td>Human development</td>\n",
       "    </tr>\n",
       "    <tr>\n",
       "      <th>1</th>\n",
       "      <td>11</td>\n",
       "      <td></td>\n",
       "      <td>Environment and natural resources management</td>\n",
       "    </tr>\n",
       "    <tr>\n",
       "      <th>0</th>\n",
       "      <td>1</td>\n",
       "      <td>Economic management</td>\n",
       "      <td>Economic management</td>\n",
       "    </tr>\n",
       "    <tr>\n",
       "      <th>1</th>\n",
       "      <td>6</td>\n",
       "      <td>Social protection and risk management</td>\n",
       "      <td>Social protection and risk management</td>\n",
       "    </tr>\n",
       "    <tr>\n",
       "      <th>0</th>\n",
       "      <td>5</td>\n",
       "      <td>Trade and integration</td>\n",
       "      <td>Trade and integration</td>\n",
       "    </tr>\n",
       "  </tbody>\n",
       "</table>\n",
       "</div>"
      ],
      "text/plain": [
       "  code                                   name  \\\n",
       "0    8                      Human development   \n",
       "1   11                                          \n",
       "0    1                    Economic management   \n",
       "1    6  Social protection and risk management   \n",
       "0    5                  Trade and integration   \n",
       "\n",
       "                                     theme_name  \n",
       "0                             Human development  \n",
       "1  Environment and natural resources management  \n",
       "0                           Economic management  \n",
       "1         Social protection and risk management  \n",
       "0                         Trade and integration  "
      ]
     },
     "execution_count": 20,
     "metadata": {},
     "output_type": "execute_result"
    }
   ],
   "source": [
    "# confirm missing values are filled in correctly by checking existing data\n",
    "projects.head()"
   ]
  },
  {
   "cell_type": "markdown",
   "metadata": {},
   "source": [
    "<p>Now that we filled in the missing values, we can look at what the codes represent.</p>\n",
    "<p>The small sample we took, shows that <b>Enviromental and Natural Resources Management, Rural Development and Human Development </b>are the most common themes when it comes to developing projects.</p>"
   ]
  },
  {
   "cell_type": "code",
   "execution_count": 21,
   "metadata": {},
   "outputs": [
    {
     "data": {
      "text/plain": [
       "Environment and natural resources management    250\n",
       "Rural development                               216\n",
       "Human development                               210\n",
       "Public sector governance                        199\n",
       "Social protection and risk management           168\n",
       "Financial and private sector development        146\n",
       "Social dev/gender/inclusion                     130\n",
       "Trade and integration                            77\n",
       "Urban development                                50\n",
       "Economic management                              38\n",
       "Name: theme_name, dtype: int64"
      ]
     },
     "execution_count": 21,
     "metadata": {},
     "output_type": "execute_result"
    }
   ],
   "source": [
    "# top ten project themes\n",
    "projects['theme_name'].value_counts().head(10)"
   ]
  },
  {
   "cell_type": "markdown",
   "metadata": {},
   "source": [
    "<hr>\n",
    "<h2>Accomplishments</h2>\n",
    "<p>On the technical side, this analysis gave a small overview on how to read JSON files using the json library, how to use Pandas to normalize json files, extract raw information, handle missing values and analyze data, and how to use matplotlib and folium to visualize data.</p>\n",
    "<p>Based on the data exploration we discovered that most projects are developed by countries in the western hemisphere and that these projects focus prmiarly on human capital and the environment.</p>"
   ]
  }
 ],
 "metadata": {
  "kernelspec": {
   "display_name": "Python 3",
   "language": "python",
   "name": "python3"
  },
  "language_info": {
   "codemirror_mode": {
    "name": "ipython",
    "version": 3
   },
   "file_extension": ".py",
   "mimetype": "text/x-python",
   "name": "python",
   "nbconvert_exporter": "python",
   "pygments_lexer": "ipython3",
   "version": "3.6.7"
  }
 },
 "nbformat": 4,
 "nbformat_minor": 2
}
