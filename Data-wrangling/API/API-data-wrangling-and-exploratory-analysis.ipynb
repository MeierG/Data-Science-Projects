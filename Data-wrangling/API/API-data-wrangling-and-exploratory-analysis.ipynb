{
 "cells": [
  {
   "cell_type": "markdown",
   "metadata": {},
   "source": [
    "# Retrieving and Analyzing Equities Data Using Qunald API\n",
    "\n",
    "<p>The objective of the following report is to use the Qunadl API to retrieve equities data from the Frankfurt Stock Exhange (FSE), which is available for free. We'll try and analyze the stock prices of a company called Carl Zeiss Meditec, which manufactures tools for eye examinations, as well as medical lasers for laser eye surgery: https://www.zeiss.com/meditec/int/home.html. The company is listed under the stock ticker AFX_X.</p> \n",
    "\n",
    "\n",
    "## Tools and Skills\n",
    "<p><b><em>Language:</em></b> Python</p>\n",
    "<p><em><b>Skills</b>:</em> \n",
    "    <ul>\n",
    "        <li><b>Data mining:</b> API, requests, json\n",
    "        <li><b>Data manipulation:</b> dictionaries, list comprehensions, datetime</li>\n",
    "        <li><b>Visualization:</b> matplotlib</li>\n",
    "    </ul>\n",
    "</p>"
   ]
  },
  {
   "cell_type": "markdown",
   "metadata": {},
   "source": [
    "<p>The first step is to register for a free account on the http://www.quandl.com website to receive a unique API key to access the data. Qaundl is currently the most widely used aggregator of financial market data.</p>"
   ]
  },
  {
   "cell_type": "code",
   "execution_count": 2,
   "metadata": {},
   "outputs": [],
   "source": [
    "# Store the API key as a string\n",
    "API_KEY = 'YOUR-API'"
   ]
  },
  {
   "cell_type": "code",
   "execution_count": 2,
   "metadata": {
    "collapsed": true
   },
   "outputs": [],
   "source": [
    "# First, import the relevant modules\n",
    "import requests\n",
    "import json\n",
    "import matplotlib.pyplot as plt\n",
    "import matplotlib.dates as mdates\n",
    "from datetime import datetime"
   ]
  },
  {
   "cell_type": "code",
   "execution_count": 3,
   "metadata": {
    "collapsed": true
   },
   "outputs": [],
   "source": [
    "# Now, call the Quandl API and pull out a small sample of the data (only one day) to get a glimpse\n",
    "# into the JSON structure that will be returned\n",
    "\n",
    "# add API_KEY variable to url\n",
    "url = 'https://www.quandl.com/api/v3/datasets/FSE/AFX_X.json?start_date=2018-12-14&end_date=2018-12-14&api_key='+API_KEY\n",
    "\n",
    "# package the request, send the request and catch the response\n",
    "r = requests.get(url)"
   ]
  },
  {
   "cell_type": "code",
   "execution_count": 4,
   "metadata": {
    "collapsed": true
   },
   "outputs": [
    {
     "name": "stdout",
     "output_type": "stream",
     "text": [
      "{\"dataset\":{\"id\":10095370,\"dataset_code\":\"AFX_X\",\"database_code\":\"FSE\",\"name\":\"Carl Zeiss Meditec (AFX_X)\",\"description\":\"Stock Prices for Carl Zeiss Meditec (AFX) from the Frankfurt Stock Exchange.\\u003cbr\\u003e\\u003cbr\\u003eTrading System: Xetra\\u003cbr\\u003e\\u003cbr\\u003eISIN: DE0005313704\",\"refreshed_at\":\"2018-12-28T22:32:28.905Z\",\"newest_available_date\":\"2018-12-28\",\"oldest_available_date\":\"2000-06-07\",\"column_names\":[\"Date\",\"Open\",\"High\",\"Low\",\"Close\",\"Change\",\"Traded Volume\",\"Turnover\",\"Last Price of the Day\",\"Daily Traded Units\",\"Daily Turnover\"],\"frequency\":\"daily\",\"type\":\"Time Series\",\"premium\":false,\"limit\":null,\"transform\":null,\"column_index\":null,\"start_date\":\"2018-12-14\",\"end_date\":\"2018-12-14\",\"data\":[[\"2018-12-14\",null,72.05,70.45,71.3,null,null,null,null,null,null]],\"collapse\":null,\"order\":null,\"database_id\":6129}}\n"
     ]
    }
   ],
   "source": [
    "# Inspect the JSON structure of the object you created, and take note of how nested it is,\n",
    "# as well as the overall structure\n",
    "\n",
    "# look at the text of the request\n",
    "txt = r.text\n",
    "print(txt)"
   ]
  },
  {
   "cell_type": "markdown",
   "metadata": {},
   "source": [
    "***\n",
    "Based on the overall structure, the data that we need are contained in the \"columns_names\" and \"data\" keys."
   ]
  },
  {
   "cell_type": "markdown",
   "metadata": {},
   "source": [
    "## Tasks to complete:\n",
    "\n",
    "1. [Collect data from the Franfurt Stock Exchange, for the ticker AFX_X, for the whole year 2017 (keep in mind that the date format is YYYY-MM-DD).](#collect_data)\n",
    "2. [Convert the returned JSON object into a Python dictionary.](#convert_JSON)\n",
    "3. [Calculate what the highest and lowest opening prices were for the stock in this period.](#opening_prices)\n",
    "4. [What was the largest change in any one day (based on High and Low price)?](#largest_change)\n",
    "5. [What was the largest change between any two days (based on Closing Price)?](#largest_change_two)\n",
    "6. [What was the average daily trading volume during this year?](#avg_volume)\n",
    "7. [(Optional) What was the median trading volume during this year. (Note: you may need to implement your own function for calculating the median.)](#median_trading)"
   ]
  },
  {
   "cell_type": "markdown",
   "metadata": {},
   "source": [
    "<a id='collect_data'></a>"
   ]
  },
  {
   "cell_type": "code",
   "execution_count": 5,
   "metadata": {
    "collapsed": true
   },
   "outputs": [],
   "source": [
    "# Collect data from the Franfurt Stock Exchange, for the ticker AFX_X, for the whole year 2017 (keep in mind that the date format is YYYY-MM-DD).\n",
    "url = 'https://www.quandl.com/api/v3/datasets/FSE/AFX_X.json?start_date=2017-01-01&end_date=2017-12-31&api_key='+API_KEY\n",
    "\n",
    "# look at the text of the request\n",
    "r = requests.get(url)\n"
   ]
  },
  {
   "cell_type": "markdown",
   "metadata": {},
   "source": [
    "<a id='convert_JSON'></a>"
   ]
  },
  {
   "cell_type": "code",
   "execution_count": 6,
   "metadata": {},
   "outputs": [
    {
     "name": "stdout",
     "output_type": "stream",
     "text": [
      "file type:  <class 'dict'>\n"
     ]
    }
   ],
   "source": [
    "# confirm type of fle returned\n",
    "json_file = r.json()\n",
    "print('file type: ',type(json_file))"
   ]
  },
  {
   "cell_type": "code",
   "execution_count": 7,
   "metadata": {},
   "outputs": [],
   "source": [
    "# save the file locally\n",
    "with open('json_file.json', 'w') as outfile:\n",
    "    json.dump(json_file, outfile)"
   ]
  },
  {
   "cell_type": "code",
   "execution_count": 8,
   "metadata": {},
   "outputs": [],
   "source": [
    "# set up the environment with necessary modules IF starting a new session\n",
    "import requests\n",
    "import json"
   ]
  },
  {
   "cell_type": "code",
   "execution_count": 9,
   "metadata": {},
   "outputs": [],
   "source": [
    "# use context to open the file\n",
    "try:\n",
    "    with open('json_file.json') as json_file:\n",
    "        json_data = json.load(json_file)\n",
    "except:\n",
    "    print('File not found')"
   ]
  },
  {
   "cell_type": "code",
   "execution_count": 10,
   "metadata": {},
   "outputs": [
    {
     "name": "stdout",
     "output_type": "stream",
     "text": [
      "<class 'dict'>\n"
     ]
    }
   ],
   "source": [
    "# confirm the data type is a dictionary\n",
    "print(type(json_data))"
   ]
  },
  {
   "cell_type": "code",
   "execution_count": 11,
   "metadata": {},
   "outputs": [
    {
     "data": {
      "text/plain": [
       "dict_keys(['dataset'])"
      ]
     },
     "execution_count": 11,
     "metadata": {},
     "output_type": "execute_result"
    }
   ],
   "source": [
    "# look at the structure of the dictionary\n",
    "json_data.keys()"
   ]
  },
  {
   "cell_type": "markdown",
   "metadata": {},
   "source": [
    "### Get Relevant Data for Analysis\n",
    "Since we only want the data for two of the dictionary values: 'column_names' and 'data', we use the <code>popitem() </code> method to return the last item in the dictionary as a tuple"
   ]
  },
  {
   "cell_type": "code",
   "execution_count": 12,
   "metadata": {},
   "outputs": [
    {
     "name": "stdout",
     "output_type": "stream",
     "text": [
      "<class 'tuple'>\n"
     ]
    }
   ],
   "source": [
    "# return the last item in the dictionary (values)\n",
    "t = json_data.popitem()\n",
    "print(type(t))"
   ]
  },
  {
   "cell_type": "code",
   "execution_count": 13,
   "metadata": {},
   "outputs": [
    {
     "name": "stdout",
     "output_type": "stream",
     "text": [
      "['Date', 'Open', 'High', 'Low', 'Close', 'Change', 'Traded Volume', 'Turnover', 'Last Price of the Day', 'Daily Traded Units', 'Daily Turnover']\n"
     ]
    }
   ],
   "source": [
    "# get the column names\n",
    "col_names = t[1]['column_names']\n",
    "print(col_names)"
   ]
  },
  {
   "cell_type": "code",
   "execution_count": 14,
   "metadata": {},
   "outputs": [
    {
     "name": "stdout",
     "output_type": "stream",
     "text": [
      "<class 'list'>\n",
      "['2017-12-29', 51.76, 51.94, 51.45, 51.76, None, 34640.0, 1792304.0, None, None, None]\n"
     ]
    }
   ],
   "source": [
    "# get the stock data as  list\n",
    "stock_data = t[1]['data']\n",
    "print(type(stock_data))\n",
    "\n",
    "# confirm the structure of the data matches the column names\n",
    "print(stock_data[0])"
   ]
  },
  {
   "cell_type": "markdown",
   "metadata": {},
   "source": [
    "<a id='opening_prices'></a>"
   ]
  },
  {
   "cell_type": "markdown",
   "metadata": {},
   "source": [
    "3. Calculate what the highest and lowest opening prices were for the stock in this period"
   ]
  },
  {
   "cell_type": "code",
   "execution_count": 15,
   "metadata": {},
   "outputs": [],
   "source": [
    "# get a list of the opening prices - second item - from the stock_data\n",
    "opening = [price[1] for price in stock_data if price[1] is not None] "
   ]
  },
  {
   "cell_type": "code",
   "execution_count": 16,
   "metadata": {},
   "outputs": [
    {
     "name": "stdout",
     "output_type": "stream",
     "text": [
      "lowest opening prices: 34.0\n",
      "highest opening prices: 53.11\n"
     ]
    }
   ],
   "source": [
    "print('lowest opening prices:',min(opening))\n",
    "print('highest opening prices:',max(opening))"
   ]
  },
  {
   "cell_type": "markdown",
   "metadata": {},
   "source": [
    "* <b>Looking at Opening Prices Throughtout the Year<b>"
   ]
  },
  {
   "cell_type": "code",
   "execution_count": 17,
   "metadata": {},
   "outputs": [],
   "source": [
    "# Get the dates from the stock data including only dates when opening prices is not null\n",
    "# format dates as datetime to plot\n",
    "dates = [datetime.strptime(item[0], '%Y-%m-%d').date() for item in stock_data if item[1] is not None]"
   ]
  },
  {
   "cell_type": "code",
   "execution_count": 18,
   "metadata": {},
   "outputs": [
    {
     "data": {
      "image/png": "[encoded data removed]",
      "text/plain": [
       "<Figure size 1296x576 with 1 Axes>"
      ]
     },
     "metadata": {},
     "output_type": "display_data"
    }
   ],
   "source": [
    "# set the size of the plot\n",
    "plt.rcParams[\"figure.figsize\"] = [18,8]\n",
    "plt.style.use(['dark_background']) # set dark ground to show legends\n",
    "fig, ax = plt.subplots() # use to unpack and use figure and plotting attributes more easily\n",
    "ax.plot(dates,opening)\n",
    "ax.set_title('Carl Zeiss Meditec (AFX_X) Stock Opening Prices 2017', fontsize = 15)\n",
    "ax.xaxis.set_major_locator(mdates.MonthLocator()) # show xticks for every month\n",
    "ax.xaxis.set_major_formatter(mdates.DateFormatter('%b %Y')) # display only month\n",
    "#fig.autofmt_xdate()"
   ]
  },
  {
   "cell_type": "markdown",
   "metadata": {},
   "source": [
    "<a id='largest_change'></a>"
   ]
  },
  {
   "cell_type": "markdown",
   "metadata": {},
   "source": [
    "4. What was the largest change in any one day (based on High and Low price)?"
   ]
  },
  {
   "cell_type": "code",
   "execution_count": 19,
   "metadata": {},
   "outputs": [],
   "source": [
    "change = [price[2] - price[3] for price in stock_data]"
   ]
  },
  {
   "cell_type": "code",
   "execution_count": 20,
   "metadata": {},
   "outputs": [
    {
     "name": "stdout",
     "output_type": "stream",
     "text": [
      "2.8100000000000023\n"
     ]
    }
   ],
   "source": [
    "change.sort()\n",
    "print(change[-1])"
   ]
  },
  {
   "cell_type": "markdown",
   "metadata": {},
   "source": [
    "<a id='largest_change_two'></a>"
   ]
  },
  {
   "cell_type": "markdown",
   "metadata": {},
   "source": [
    "5. What was the largest change between any two days (based on Closing Price)?"
   ]
  },
  {
   "cell_type": "code",
   "execution_count": 21,
   "metadata": {},
   "outputs": [
    {
     "name": "stdout",
     "output_type": "stream",
     "text": [
      "5.979999999999997\n"
     ]
    }
   ],
   "source": [
    "closing = [price[4] for price in stock_data if price[4] is not None]\n",
    "change = 0\n",
    "next_index = 0\n",
    "for i in range(len(closing)):\n",
    "    if closing[i]< closing[next_index]:\n",
    "        closing[next_index] = closing[i]\n",
    "    l = closing[i] - closing[next_index]\n",
    "    if l > change:\n",
    "        change = l\n",
    "print(change)"
   ]
  },
  {
   "cell_type": "markdown",
   "metadata": {},
   "source": [
    "<a id='avg_volume'></a>"
   ]
  },
  {
   "cell_type": "markdown",
   "metadata": {},
   "source": [
    "6. What was the average daily trading volume during this year?"
   ]
  },
  {
   "cell_type": "code",
   "execution_count": 22,
   "metadata": {},
   "outputs": [
    {
     "name": "stdout",
     "output_type": "stream",
     "text": [
      "average daily trading volume during 2107: 89124.33725490196\n"
     ]
    }
   ],
   "source": [
    "avg_volume = [item[6] for item in stock_data if item[6] is not None]\n",
    "print('average daily trading volume during 2107:',sum(avg_volume)/len(avg_volume))"
   ]
  },
  {
   "cell_type": "markdown",
   "metadata": {},
   "source": [
    "<a id='median_trading'></a>"
   ]
  },
  {
   "cell_type": "markdown",
   "metadata": {},
   "source": [
    "7. (Optional) What was the median trading volume during this year. (Note: you may need to implement your own function for calculating the median.)"
   ]
  },
  {
   "cell_type": "code",
   "execution_count": 23,
   "metadata": {},
   "outputs": [],
   "source": [
    "volume = [item[6] for item in stock_data if item[6] is not None]"
   ]
  },
  {
   "cell_type": "code",
   "execution_count": 24,
   "metadata": {},
   "outputs": [
    {
     "data": {
      "text/plain": [
       "255"
      ]
     },
     "execution_count": 24,
     "metadata": {},
     "output_type": "execute_result"
    }
   ],
   "source": [
    "len(volume)"
   ]
  },
  {
   "cell_type": "code",
   "execution_count": 25,
   "metadata": {},
   "outputs": [],
   "source": [
    "def median_volume(ls):\n",
    "    ls.sort()\n",
    "    if len(ls) %2 != 0:\n",
    "        index=ls[int(len(ls)/2)]\n",
    "        return index\n",
    "    else:\n",
    "        right_index = len(ls)//2\n",
    "        left_index = right_index - 1\n",
    "        return (ls[left_index] + ls[right_index])/2"
   ]
  },
  {
   "cell_type": "code",
   "execution_count": 26,
   "metadata": {},
   "outputs": [
    {
     "name": "stdout",
     "output_type": "stream",
     "text": [
      "76286.0\n"
     ]
    }
   ],
   "source": [
    "median_trading = median_volume(volume)\n",
    "print(median_trading)"
   ]
  }
 ],
 "metadata": {
  "kernelspec": {
   "display_name": "Python 3",
   "language": "python",
   "name": "python3"
  },
  "language_info": {
   "codemirror_mode": {
    "name": "ipython",
    "version": 3
   },
   "file_extension": ".py",
   "mimetype": "text/x-python",
   "name": "python",
   "nbconvert_exporter": "python",
   "pygments_lexer": "ipython3",
   "version": "3.7.2"
  }
 },
 "nbformat": 4,
 "nbformat_minor": 2
}
